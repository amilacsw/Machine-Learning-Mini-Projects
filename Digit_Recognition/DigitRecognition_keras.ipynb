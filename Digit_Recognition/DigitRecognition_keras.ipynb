{
 "cells": [
  {
   "cell_type": "markdown",
   "metadata": {},
   "source": [
    "# Digit Recognition Neural Network Using KERAS"
   ]
  },
  {
   "cell_type": "markdown",
   "metadata": {},
   "source": [
    "This is a practise code written following the example given at https://machinelearningmastery.com/handwritten-digit-recognition-using-convolutional-neural-networks-python-keras/."
   ]
  },
  {
   "cell_type": "markdown",
   "metadata": {},
   "source": [
    "## Load data (download if necessary)\n",
    "The following code downloads the MNIST data set to the home directory in ~/.keras/datasets/mnist.pkl.gz as a 15MB file (if it doesn't already exist) and load it to be analyzed."
   ]
  },
  {
   "cell_type": "code",
   "execution_count": 33,
   "metadata": {},
   "outputs": [
    {
     "data": {
      "text/plain": [
       "<matplotlib.axes._subplots.AxesSubplot at 0x1a3b93a0f0>"
      ]
     },
     "execution_count": 33,
     "metadata": {},
     "output_type": "execute_result"
    },
    {
     "data": {
      "image/png": "[encoded data removed]",
      "text/plain": [
       "<matplotlib.figure.Figure at 0x1a304fec50>"
      ]
     },
     "metadata": {},
     "output_type": "display_data"
    }
   ],
   "source": [
    "from keras.datasets import mnist\n",
    "import matplotlib.pyplot as plt\n",
    "import seaborn as sns\n",
    "# load data (download if it doesn't already exist)\n",
    "(X_train, y_train), (X_test, y_test) = mnist.load_data()\n",
    "# plot some example images\n",
    "plt.subplot(121)\n",
    "sns.heatmap(X_train[0], cbar=False, cmap='Greys')\n",
    "plt.subplot(122)\n",
    "sns.heatmap(X_train[1], cbar=False, cmap='Greys')"
   ]
  },
  {
   "cell_type": "markdown",
   "metadata": {},
   "source": [
    "## Testing with a simple multi-layer perceptron model\n",
    "Checking whether we could achieve a considerable accuracy just using a simple neural network."
   ]
  },
  {
   "cell_type": "code",
   "execution_count": 18,
   "metadata": {},
   "outputs": [],
   "source": [
    "import numpy as np\n",
    "from keras.models import Sequential # simplest model - a linear stack of layers\n",
    "from keras.layers import Dense\n",
    "from keras.layers import Dropout\n",
    "from keras.utils import np_utils"
   ]
  },
  {
   "cell_type": "markdown",
   "metadata": {},
   "source": [
    "In order to ensure the results are reproducible, assign a random number to a constant."
   ]
  },
  {
   "cell_type": "code",
   "execution_count": 21,
   "metadata": {},
   "outputs": [],
   "source": [
    "seed = 7\n",
    "np.random.seed(seed)"
   ]
  },
  {
   "cell_type": "markdown",
   "metadata": {},
   "source": [
    "Data set consists of a three dimensional array, where each image is a two dimensional array having the greyscale number for each 28x28 pixel. We need to convert this 28x28 matrix in to a single vector with 784 elements. We change the precision of the values to 32 bit so that, we save some memory."
   ]
  },
  {
   "cell_type": "code",
   "execution_count": 34,
   "metadata": {},
   "outputs": [],
   "source": [
    "# reshape 28*28 matrix in to a vector with 784 elements\n",
    "num_pixels = X_train.shape[1] * X_train.shape[2]\n",
    "X_train = X_train.reshape( X_train.shape[0], num_pixels ).astype('float32')\n",
    "X_test = X_test.reshape( X_test.shape[0], num_pixels ).astype('float32')\n",
    "\n",
    "# normalize grey scale values 0-255 to 0-1\n",
    "X_train = X_train / 255\n",
    "X_test = X_test / 255"
   ]
  },
  {
   "cell_type": "markdown",
   "metadata": {},
   "source": [
    "Since this is a multi class classification problem, each class should be expressed as vectors of 1's and 0's (One hot encoding). This prevents the model treating classes denoted by higher values as more favorable if we had assigned integer values to classes."
   ]
  },
  {
   "cell_type": "code",
   "execution_count": 36,
   "metadata": {},
   "outputs": [],
   "source": [
    "# one hot encoding clases\n",
    "y_train = np_utils.to_categorical(y_train)\n",
    "y_test = np_utils.to_categorical(y_test)\n",
    "num_classes = y_test.shape[1]"
   ]
  },
  {
   "cell_type": "markdown",
   "metadata": {},
   "source": [
    "Now we build a simple neural network model. This is a stacked layer model with just one hidden layer. There are 784 number of inputs and a rectifier activation function (positive part of the argument) is used in the hidden layer. Output layer has 10 classes and the activation function is softmax (extension of sigmoid function from two classes case to multi class case). Logarithmic loss is used as the loss function (\"categorical_crossentropy\") and ADAM gradient descent is used as the optimizer."
   ]
  },
  {
   "cell_type": "code",
   "execution_count": 39,
   "metadata": {},
   "outputs": [],
   "source": [
    "# define baseline model\n",
    "def baseline_model():\n",
    "\t# create model\n",
    "\tmodel = Sequential()\n",
    "\tmodel.add( Dense(num_pixels, input_dim=num_pixels, kernel_initializer='normal', activation='relu') ) \n",
    "\tmodel.add( Dense(num_classes, kernel_initializer='normal', activation='softmax') )\n",
    "\t# Compile model\n",
    "\tmodel.compile(loss='categorical_crossentropy', optimizer='adam', metrics=['accuracy'])\n",
    "\treturn model"
   ]
  },
  {
   "cell_type": "code",
   "execution_count": 40,
   "metadata": {},
   "outputs": [
    {
     "name": "stdout",
     "output_type": "stream",
     "text": [
      "Train on 60000 samples, validate on 10000 samples\n",
      "Epoch 1/10\n",
      " - 5s - loss: 0.2783 - acc: 0.9209 - val_loss: 0.1411 - val_acc: 0.9574\n",
      "Epoch 2/10\n",
      " - 4s - loss: 0.1114 - acc: 0.9675 - val_loss: 0.0918 - val_acc: 0.9710\n",
      "Epoch 3/10\n",
      " - 4s - loss: 0.0718 - acc: 0.9795 - val_loss: 0.0792 - val_acc: 0.9769\n",
      "Epoch 4/10\n",
      " - 4s - loss: 0.0506 - acc: 0.9854 - val_loss: 0.0748 - val_acc: 0.9767\n",
      "Epoch 5/10\n",
      " - 4s - loss: 0.0375 - acc: 0.9891 - val_loss: 0.0685 - val_acc: 0.9789\n",
      "Epoch 6/10\n",
      " - 4s - loss: 0.0269 - acc: 0.9928 - val_loss: 0.0633 - val_acc: 0.9800\n",
      "Epoch 7/10\n",
      " - 4s - loss: 0.0216 - acc: 0.9943 - val_loss: 0.0624 - val_acc: 0.9805\n",
      "Epoch 8/10\n",
      " - 4s - loss: 0.0142 - acc: 0.9970 - val_loss: 0.0631 - val_acc: 0.9803\n",
      "Epoch 9/10\n",
      " - 4s - loss: 0.0109 - acc: 0.9978 - val_loss: 0.0590 - val_acc: 0.9809\n",
      "Epoch 10/10\n",
      " - 4s - loss: 0.0080 - acc: 0.9985 - val_loss: 0.0590 - val_acc: 0.9815\n",
      "Baseline Error: 1.85%\n"
     ]
    }
   ],
   "source": [
    "# build the model\n",
    "model = baseline_model()\n",
    "# Fit the model\n",
    "model.fit( X_train, y_train, validation_data=(X_test, y_test), epochs=10, batch_size=200, verbose=2 )\n",
    "# Final evaluation of the model\n",
    "scores = model.evaluate( X_test, y_test, verbose=0 )\n",
    "print( \"Baseline Error: %.2f%%\" % (100-scores[1]*100) )"
   ]
  },
  {
   "cell_type": "markdown",
   "metadata": {},
   "source": [
    "Now let's check some predictions from this simple model. We will use the first 10 images in the test set to do this."
   ]
  },
  {
   "cell_type": "code",
   "execution_count": 67,
   "metadata": {},
   "outputs": [
    {
     "data": {
      "text/plain": [
       "<matplotlib.axes._subplots.AxesSubplot at 0x11d769ef0>"
      ]
     },
     "execution_count": 67,
     "metadata": {},
     "output_type": "execute_result"
    },
    {
     "data": {
      "image/png": "[encoded data removed]",
      "text/plain": [
       "<matplotlib.figure.Figure at 0x11d5cfcc0>"
      ]
     },
     "metadata": {},
     "output_type": "display_data"
    }
   ],
   "source": [
    "# reloading the original form of data\n",
    "(Xx_train, yy_train), (Xx_test, yy_test) = mnist.load_data()\n",
    "# taking first 10 images in the test set\n",
    "(Xx_test, yy_test) =  (Xx_test[:10], yy_test[:10])\n",
    "# plot first two of these\n",
    "plt.subplot(121)\n",
    "sns.heatmap(Xx_test[0], cbar=False, cmap='Greys')\n",
    "plt.subplot(122)\n",
    "sns.heatmap(Xx_test[1], cbar=False, cmap='Greys')"
   ]
  },
  {
   "cell_type": "code",
   "execution_count": 68,
   "metadata": {},
   "outputs": [],
   "source": [
    "# redo the necessary preprocessing\n",
    "# reshaping\n",
    "Xx_test = Xx_test.reshape( Xx_test.shape[0], num_pixels ).astype('float32')\n",
    "# normalize grey scale values 0-255 to 0-1\n",
    "Xx_test = Xx_test / 255"
   ]
  },
  {
   "cell_type": "code",
   "execution_count": 71,
   "metadata": {},
   "outputs": [
    {
     "name": "stdout",
     "output_type": "stream",
     "text": [
      "Predictions: [7 2 1 0 4 1 4 9 5 9]\n",
      "Actual values: [7 2 1 0 4 1 4 9 5 9]\n"
     ]
    }
   ],
   "source": [
    "# predict using our train model\n",
    "classes = model.predict(Xx_test)\n",
    "class_results = np.argmax(classes,axis=-1)\n",
    "# output predictions and actual classes\n",
    "print( 'Predictions:', class_results )\n",
    "print( 'Actual values:', yy_test )"
   ]
  },
  {
   "cell_type": "code",
   "execution_count": null,
   "metadata": {},
   "outputs": [],
   "source": []
  }
 ],
 "metadata": {
  "kernelspec": {
   "display_name": "Python 3",
   "language": "python",
   "name": "python3"
  },
  "language_info": {
   "codemirror_mode": {
    "name": "ipython",
    "version": 3
   },
   "file_extension": ".py",
   "mimetype": "text/x-python",
   "name": "python",
   "nbconvert_exporter": "python",
   "pygments_lexer": "ipython3",
   "version": "3.6.4"
  }
 },
 "nbformat": 4,
 "nbformat_minor": 2
}
